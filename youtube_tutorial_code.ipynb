{
 "cells": [
  {
   "cell_type": "code",
   "execution_count": 6,
   "id": "4053050c-2294-4704-a93e-3196f8a9f07b",
   "metadata": {},
   "outputs": [],
   "source": [
    "# import the libraries\n",
    "import requests"
   ]
  },
  {
   "cell_type": "code",
   "execution_count": 7,
   "id": "24a81c95-c639-424a-8fe7-8544f5fd0cbf",
   "metadata": {},
   "outputs": [],
   "source": [
    "# define a function to download the datasets\n",
    "def download_file(url, filename):\n",
    "    response = requests.get(url, stream=True)\n",
    "    if response.status_code == 200:\n",
    "        with open(filename, 'wb') as file:\n",
    "            for chunk in response.iter_content(chunk_size=1024):\n",
    "                file.write(chunk)\n",
    "    else:\n",
    "        print(f\"Failed to download the file: status code {response.status_code}\")\n",
    "        \n"
   ]
  },
  {
   "cell_type": "code",
   "execution_count": 9,
   "id": "ec888f4a-bb70-4a05-92cc-f445b9ea27d3",
   "metadata": {},
   "outputs": [],
   "source": [
    "#first define the parameters inside the function\n",
    "url = \"https://www.ncbi.nlm.nih.gov/geo/download/?acc=GSE221505&format=file&file=GSE221505%5FAP%2D01%5Fcounts%2Etxt%2Egz\"\n",
    "filename = \"GSE221505_counts.txt.gz\"\n",
    "#call the function\n",
    "download_file(url, filename)"
   ]
  },
  {
   "cell_type": "code",
   "execution_count": null,
   "id": "be5816ca-83c3-4668-bb64-2d7e6071e683",
   "metadata": {},
   "outputs": [],
   "source": []
  }
 ],
 "metadata": {
  "kernelspec": {
   "display_name": "Python 3 (ipykernel)",
   "language": "python",
   "name": "python3"
  },
  "language_info": {
   "codemirror_mode": {
    "name": "ipython",
    "version": 3
   },
   "file_extension": ".py",
   "mimetype": "text/x-python",
   "name": "python",
   "nbconvert_exporter": "python",
   "pygments_lexer": "ipython3",
   "version": "3.9.18"
  }
 },
 "nbformat": 4,
 "nbformat_minor": 5
}
